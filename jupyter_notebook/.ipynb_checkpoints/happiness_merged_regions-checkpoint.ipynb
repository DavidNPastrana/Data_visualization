{
 "cells": [
  {
   "cell_type": "code",
   "execution_count": 1,
   "id": "890cf345",
   "metadata": {},
   "outputs": [],
   "source": [
    "import pandas as pd\n",
    "import numpy as np\n",
    "import re\n",
    "\n",
    "import requests as req\n",
    "from bs4 import BeautifulSoup as bs\n",
    "\n",
    "import json"
   ]
  },
  {
   "cell_type": "code",
   "execution_count": 2,
   "id": "48bef69e",
   "metadata": {},
   "outputs": [],
   "source": [
    "pd.set_option('display.max_columns', None)  # display all columns\n",
    "pd.set_option('display.max_rows', None)  # display all rows"
   ]
  },
  {
   "cell_type": "code",
   "execution_count": 3,
   "id": "4fd50fb9",
   "metadata": {},
   "outputs": [
    {
     "data": {
      "text/plain": [
       "b'<!DOCTYPE '"
      ]
     },
     "execution_count": 3,
     "metadata": {},
     "output_type": "execute_result"
    }
   ],
   "source": [
    "url = 'https://meta.wikimedia.org/wiki/List_of_countries_by_regional_classification'\n",
    "\n",
    "html = req.get(url).content  \n",
    "\n",
    "html[:10]"
   ]
  },
  {
   "cell_type": "code",
   "execution_count": 4,
   "id": "9d8c59b7",
   "metadata": {},
   "outputs": [],
   "source": [
    "soup = bs(html, 'html.parser')"
   ]
  },
  {
   "cell_type": "code",
   "execution_count": 5,
   "id": "aa209467",
   "metadata": {},
   "outputs": [],
   "source": [
    "table = soup.find_all('table')"
   ]
  },
  {
   "cell_type": "code",
   "execution_count": 6,
   "id": "a6d16d05",
   "metadata": {},
   "outputs": [
    {
     "data": {
      "text/plain": [
       "(248, 3)"
      ]
     },
     "execution_count": 6,
     "metadata": {},
     "output_type": "execute_result"
    }
   ],
   "source": [
    "table_str = str(table[0])\n",
    "\n",
    "country_per_region = pd.read_html(table_str)[0]\n",
    "\n",
    "country_per_region.shape"
   ]
  },
  {
   "cell_type": "code",
   "execution_count": 7,
   "id": "79241fd9",
   "metadata": {},
   "outputs": [
    {
     "data": {
      "text/html": [
       "<div>\n",
       "<style scoped>\n",
       "    .dataframe tbody tr th:only-of-type {\n",
       "        vertical-align: middle;\n",
       "    }\n",
       "\n",
       "    .dataframe tbody tr th {\n",
       "        vertical-align: top;\n",
       "    }\n",
       "\n",
       "    .dataframe thead th {\n",
       "        text-align: right;\n",
       "    }\n",
       "</style>\n",
       "<table border=\"1\" class=\"dataframe\">\n",
       "  <thead>\n",
       "    <tr style=\"text-align: right;\">\n",
       "      <th></th>\n",
       "      <th>Country</th>\n",
       "      <th>Region</th>\n",
       "      <th>Global North or Global South?</th>\n",
       "    </tr>\n",
       "  </thead>\n",
       "  <tbody>\n",
       "    <tr>\n",
       "      <th>146</th>\n",
       "      <td>Mauritius</td>\n",
       "      <td>Africa</td>\n",
       "      <td>Global South</td>\n",
       "    </tr>\n",
       "    <tr>\n",
       "      <th>38</th>\n",
       "      <td>Central African Republic</td>\n",
       "      <td>Africa</td>\n",
       "      <td>Global South</td>\n",
       "    </tr>\n",
       "    <tr>\n",
       "      <th>39</th>\n",
       "      <td>Congo</td>\n",
       "      <td>Africa</td>\n",
       "      <td>Global South</td>\n",
       "    </tr>\n",
       "    <tr>\n",
       "      <th>41</th>\n",
       "      <td>Côte D'Ivoire</td>\n",
       "      <td>Africa</td>\n",
       "      <td>Global South</td>\n",
       "    </tr>\n",
       "    <tr>\n",
       "      <th>134</th>\n",
       "      <td>Madagascar</td>\n",
       "      <td>Africa</td>\n",
       "      <td>Global South</td>\n",
       "    </tr>\n",
       "  </tbody>\n",
       "</table>\n",
       "</div>"
      ],
      "text/plain": [
       "                      Country  Region Global North or Global South?\n",
       "146                 Mauritius  Africa                  Global South\n",
       "38   Central African Republic  Africa                  Global South\n",
       "39                      Congo  Africa                  Global South\n",
       "41              Côte D'Ivoire  Africa                  Global South\n",
       "134                Madagascar  Africa                  Global South"
      ]
     },
     "execution_count": 7,
     "metadata": {},
     "output_type": "execute_result"
    }
   ],
   "source": [
    "\n",
    "country_per_region.sort_values(by=\"Region\", inplace=True)\n",
    "\n",
    "country_per_region.head()\n"
   ]
  },
  {
   "cell_type": "code",
   "execution_count": 8,
   "id": "a73125d7",
   "metadata": {},
   "outputs": [
    {
     "data": {
      "text/plain": [
       "(156, 8)"
      ]
     },
     "execution_count": 8,
     "metadata": {},
     "output_type": "execute_result"
    }
   ],
   "source": [
    "# Download the CSV file containing the happiness data for further analysis.\n",
    "\n",
    "happiness_clean = pd.read_csv(\"/Users/david/Desktop/IronHack/Projects/ETL_project_happiness/data/cleaned_data/happiness_cleaned.csv\")\n",
    "\n",
    "happiness_clean.shape"
   ]
  },
  {
   "cell_type": "code",
   "execution_count": 9,
   "id": "6a2d1f7e",
   "metadata": {},
   "outputs": [
    {
     "data": {
      "text/plain": [
       "(156, 11)"
      ]
     },
     "execution_count": 9,
     "metadata": {},
     "output_type": "execute_result"
    }
   ],
   "source": [
    "new_country_per_region = country_per_region.merge(happiness_clean, left_on='Country', right_on='country_or_region', how='right')\n",
    "\n",
    "# new_country_per_region = country_per_region.merge(happiness_clean, left_on='Country', right_on='country_or_region', how='inner')\n",
    "\n",
    "new_country_per_region.shape"
   ]
  },
  {
   "cell_type": "code",
   "execution_count": 22,
   "id": "2d0ba967",
   "metadata": {},
   "outputs": [
    {
     "data": {
      "text/html": [
       "<div>\n",
       "<style scoped>\n",
       "    .dataframe tbody tr th:only-of-type {\n",
       "        vertical-align: middle;\n",
       "    }\n",
       "\n",
       "    .dataframe tbody tr th {\n",
       "        vertical-align: top;\n",
       "    }\n",
       "\n",
       "    .dataframe thead th {\n",
       "        text-align: right;\n",
       "    }\n",
       "</style>\n",
       "<table border=\"1\" class=\"dataframe\">\n",
       "  <thead>\n",
       "    <tr style=\"text-align: right;\">\n",
       "      <th></th>\n",
       "      <th>Country</th>\n",
       "      <th>Region</th>\n",
       "      <th>Global North or Global South?</th>\n",
       "      <th>country_or_region_id</th>\n",
       "      <th>country_or_region</th>\n",
       "      <th>happiness_score</th>\n",
       "      <th>happiness_score_category</th>\n",
       "      <th>peace_index</th>\n",
       "      <th>peace_index_category</th>\n",
       "      <th>feel_religious</th>\n",
       "      <th>feel_religious_category</th>\n",
       "    </tr>\n",
       "  </thead>\n",
       "  <tbody>\n",
       "    <tr>\n",
       "      <th>155</th>\n",
       "      <td>Zimbabwe</td>\n",
       "      <td>Africa</td>\n",
       "      <td>Global South</td>\n",
       "      <td>156</td>\n",
       "      <td>Zimbabwe</td>\n",
       "      <td>3.66</td>\n",
       "      <td>sad</td>\n",
       "      <td>2.46</td>\n",
       "      <td>dangerous</td>\n",
       "      <td>88.0</td>\n",
       "      <td>religious</td>\n",
       "    </tr>\n",
       "    <tr>\n",
       "      <th>52</th>\n",
       "      <td>Guinea</td>\n",
       "      <td>Africa</td>\n",
       "      <td>Global South</td>\n",
       "      <td>53</td>\n",
       "      <td>Guinea</td>\n",
       "      <td>4.53</td>\n",
       "      <td>sad</td>\n",
       "      <td>2.12</td>\n",
       "      <td>not_safe</td>\n",
       "      <td>97.0</td>\n",
       "      <td>very_religious</td>\n",
       "    </tr>\n",
       "    <tr>\n",
       "      <th>126</th>\n",
       "      <td>South Africa</td>\n",
       "      <td>Africa</td>\n",
       "      <td>Global South</td>\n",
       "      <td>127</td>\n",
       "      <td>South Africa</td>\n",
       "      <td>4.72</td>\n",
       "      <td>not_happy</td>\n",
       "      <td>2.40</td>\n",
       "      <td>dangerous</td>\n",
       "      <td>85.0</td>\n",
       "      <td>religious</td>\n",
       "    </tr>\n",
       "    <tr>\n",
       "      <th>128</th>\n",
       "      <td>South Sudan</td>\n",
       "      <td>Africa</td>\n",
       "      <td>Global South</td>\n",
       "      <td>129</td>\n",
       "      <td>South Sudan</td>\n",
       "      <td>2.85</td>\n",
       "      <td>sad</td>\n",
       "      <td>3.53</td>\n",
       "      <td>dangerous</td>\n",
       "      <td>72.0</td>\n",
       "      <td>unknown</td>\n",
       "    </tr>\n",
       "    <tr>\n",
       "      <th>82</th>\n",
       "      <td>Madagascar</td>\n",
       "      <td>Africa</td>\n",
       "      <td>Global South</td>\n",
       "      <td>83</td>\n",
       "      <td>Madagascar</td>\n",
       "      <td>3.93</td>\n",
       "      <td>sad</td>\n",
       "      <td>1.87</td>\n",
       "      <td>safe</td>\n",
       "      <td>93.0</td>\n",
       "      <td>religious</td>\n",
       "    </tr>\n",
       "  </tbody>\n",
       "</table>\n",
       "</div>"
      ],
      "text/plain": [
       "          Country  Region Global North or Global South?  country_or_region_id  \\\n",
       "155      Zimbabwe  Africa                  Global South                   156   \n",
       "52         Guinea  Africa                  Global South                    53   \n",
       "126  South Africa  Africa                  Global South                   127   \n",
       "128   South Sudan  Africa                  Global South                   129   \n",
       "82     Madagascar  Africa                  Global South                    83   \n",
       "\n",
       "    country_or_region  happiness_score happiness_score_category  peace_index  \\\n",
       "155          Zimbabwe             3.66                      sad         2.46   \n",
       "52             Guinea             4.53                      sad         2.12   \n",
       "126      South Africa             4.72                not_happy         2.40   \n",
       "128       South Sudan             2.85                      sad         3.53   \n",
       "82         Madagascar             3.93                      sad         1.87   \n",
       "\n",
       "    peace_index_category  feel_religious feel_religious_category  \n",
       "155            dangerous            88.0               religious  \n",
       "52              not_safe            97.0          very_religious  \n",
       "126            dangerous            85.0               religious  \n",
       "128            dangerous            72.0                 unknown  \n",
       "82                  safe            93.0               religious  "
      ]
     },
     "execution_count": 22,
     "metadata": {},
     "output_type": "execute_result"
    }
   ],
   "source": [
    "new_country_per_region.sort_values(by=\"Region\", inplace=True)\n",
    "\n",
    "new_country_per_region.head()"
   ]
  },
  {
   "cell_type": "code",
   "execution_count": 11,
   "id": "dd1d735e",
   "metadata": {},
   "outputs": [
    {
     "data": {
      "text/html": [
       "<div>\n",
       "<style scoped>\n",
       "    .dataframe tbody tr th:only-of-type {\n",
       "        vertical-align: middle;\n",
       "    }\n",
       "\n",
       "    .dataframe tbody tr th {\n",
       "        vertical-align: top;\n",
       "    }\n",
       "\n",
       "    .dataframe thead th {\n",
       "        text-align: right;\n",
       "    }\n",
       "</style>\n",
       "<table border=\"1\" class=\"dataframe\">\n",
       "  <thead>\n",
       "    <tr style=\"text-align: right;\">\n",
       "      <th></th>\n",
       "      <th>happiness_score</th>\n",
       "      <th>peace_index</th>\n",
       "      <th>feel_religious</th>\n",
       "    </tr>\n",
       "  </thead>\n",
       "  <tbody>\n",
       "    <tr>\n",
       "      <th>happiness_score</th>\n",
       "      <td>1.000000</td>\n",
       "      <td>-0.515868</td>\n",
       "      <td>-0.554974</td>\n",
       "    </tr>\n",
       "    <tr>\n",
       "      <th>peace_index</th>\n",
       "      <td>-0.515868</td>\n",
       "      <td>1.000000</td>\n",
       "      <td>0.420983</td>\n",
       "    </tr>\n",
       "    <tr>\n",
       "      <th>feel_religious</th>\n",
       "      <td>-0.554974</td>\n",
       "      <td>0.420983</td>\n",
       "      <td>1.000000</td>\n",
       "    </tr>\n",
       "  </tbody>\n",
       "</table>\n",
       "</div>"
      ],
      "text/plain": [
       "                 happiness_score  peace_index  feel_religious\n",
       "happiness_score         1.000000    -0.515868       -0.554974\n",
       "peace_index            -0.515868     1.000000        0.420983\n",
       "feel_religious         -0.554974     0.420983        1.000000"
      ]
     },
     "execution_count": 11,
     "metadata": {},
     "output_type": "execute_result"
    }
   ],
   "source": [
    "correlation_matrix = new_country_per_region[[\"happiness_score\",\"peace_index\",\"feel_religious\"]].corr()\n",
    "\n",
    "correlation_matrix"
   ]
  },
  {
   "cell_type": "code",
   "execution_count": 12,
   "id": "7e04178b",
   "metadata": {},
   "outputs": [
    {
     "data": {
      "text/html": [
       "<div>\n",
       "<style scoped>\n",
       "    .dataframe tbody tr th:only-of-type {\n",
       "        vertical-align: middle;\n",
       "    }\n",
       "\n",
       "    .dataframe tbody tr th {\n",
       "        vertical-align: top;\n",
       "    }\n",
       "\n",
       "    .dataframe thead th {\n",
       "        text-align: right;\n",
       "    }\n",
       "</style>\n",
       "<table border=\"1\" class=\"dataframe\">\n",
       "  <thead>\n",
       "    <tr style=\"text-align: right;\">\n",
       "      <th></th>\n",
       "      <th>happiness_score</th>\n",
       "      <th>peace_index</th>\n",
       "      <th>feel_religious</th>\n",
       "    </tr>\n",
       "  </thead>\n",
       "  <tbody>\n",
       "    <tr>\n",
       "      <th>happiness_score</th>\n",
       "      <td>1.000000</td>\n",
       "      <td>-0.617693</td>\n",
       "      <td>-0.429007</td>\n",
       "    </tr>\n",
       "    <tr>\n",
       "      <th>peace_index</th>\n",
       "      <td>-0.617693</td>\n",
       "      <td>1.000000</td>\n",
       "      <td>0.306537</td>\n",
       "    </tr>\n",
       "    <tr>\n",
       "      <th>feel_religious</th>\n",
       "      <td>-0.429007</td>\n",
       "      <td>0.306537</td>\n",
       "      <td>1.000000</td>\n",
       "    </tr>\n",
       "  </tbody>\n",
       "</table>\n",
       "</div>"
      ],
      "text/plain": [
       "                 happiness_score  peace_index  feel_religious\n",
       "happiness_score         1.000000    -0.617693       -0.429007\n",
       "peace_index            -0.617693     1.000000        0.306537\n",
       "feel_religious         -0.429007     0.306537        1.000000"
      ]
     },
     "execution_count": 12,
     "metadata": {},
     "output_type": "execute_result"
    }
   ],
   "source": [
    "category = \"Europe\"\n",
    "\n",
    "filtered_europe = new_country_per_region[new_country_per_region[\"Region\"] == category]\n",
    "\n",
    "filtered_europe[[\"happiness_score\", \"peace_index\", \"feel_religious\"]].corr()"
   ]
  },
  {
   "cell_type": "code",
   "execution_count": 13,
   "id": "8ccd7175",
   "metadata": {},
   "outputs": [
    {
     "data": {
      "image/png": "[encoded data removed]",
      "text/plain": [
       "<Figure size 500x500 with 1 Axes>"
      ]
     },
     "metadata": {},
     "output_type": "display_data"
    }
   ],
   "source": [
    "# Create a scatter plot to visually observe the correlation between the 'peace_index' and 'happiness_score' variables\n",
    "\n",
    "import seaborn as sns\n",
    "import matplotlib.pyplot as plt\n",
    "import statsmodels.api as sm\n",
    "import numpy as np\n",
    "from sklearn.metrics import r2_score\n",
    "\n",
    "g = sns.lmplot(x='peace_index', y='happiness_score', data = filtered_europe)\n",
    "\n",
    "x = filtered_europe['peace_index']\n",
    "y = filtered_europe['happiness_score']\n",
    "y_pred = np.poly1d(np.polyfit(x, y, 1))(x)\n",
    "r2 = r2_score(y, y_pred)\n",
    "\n",
    "# Annotate the plot with the R-squared value\n",
    "# g.fig.text(0.15, 0.9, f\"R2 = {r2:.2f}\", fontsize=12)\n",
    "\n",
    "plt.show()"
   ]
  },
  {
   "cell_type": "code",
   "execution_count": 14,
   "id": "66bfe65c",
   "metadata": {},
   "outputs": [
    {
     "data": {
      "text/html": [
       "<div>\n",
       "<style scoped>\n",
       "    .dataframe tbody tr th:only-of-type {\n",
       "        vertical-align: middle;\n",
       "    }\n",
       "\n",
       "    .dataframe tbody tr th {\n",
       "        vertical-align: top;\n",
       "    }\n",
       "\n",
       "    .dataframe thead th {\n",
       "        text-align: right;\n",
       "    }\n",
       "</style>\n",
       "<table border=\"1\" class=\"dataframe\">\n",
       "  <thead>\n",
       "    <tr style=\"text-align: right;\">\n",
       "      <th></th>\n",
       "      <th>happiness_score</th>\n",
       "      <th>peace_index</th>\n",
       "      <th>feel_religious</th>\n",
       "    </tr>\n",
       "  </thead>\n",
       "  <tbody>\n",
       "    <tr>\n",
       "      <th>happiness_score</th>\n",
       "      <td>1.000000</td>\n",
       "      <td>-0.626666</td>\n",
       "      <td>-0.527808</td>\n",
       "    </tr>\n",
       "    <tr>\n",
       "      <th>peace_index</th>\n",
       "      <td>-0.626666</td>\n",
       "      <td>1.000000</td>\n",
       "      <td>0.410304</td>\n",
       "    </tr>\n",
       "    <tr>\n",
       "      <th>feel_religious</th>\n",
       "      <td>-0.527808</td>\n",
       "      <td>0.410304</td>\n",
       "      <td>1.000000</td>\n",
       "    </tr>\n",
       "  </tbody>\n",
       "</table>\n",
       "</div>"
      ],
      "text/plain": [
       "                 happiness_score  peace_index  feel_religious\n",
       "happiness_score         1.000000    -0.626666       -0.527808\n",
       "peace_index            -0.626666     1.000000        0.410304\n",
       "feel_religious         -0.527808     0.410304        1.000000"
      ]
     },
     "execution_count": 14,
     "metadata": {},
     "output_type": "execute_result"
    }
   ],
   "source": [
    "category = \"Asia & Pacific\"\n",
    "\n",
    "filtered_europe = new_country_per_region[new_country_per_region[\"Region\"] == category]\n",
    "\n",
    "filtered_europe[[\"happiness_score\", \"peace_index\", \"feel_religious\"]].corr()"
   ]
  },
  {
   "cell_type": "code",
   "execution_count": 15,
   "id": "a07db780",
   "metadata": {},
   "outputs": [
    {
     "data": {
      "image/png": "[encoded data removed]",
      "text/plain": [
       "<Figure size 500x500 with 1 Axes>"
      ]
     },
     "metadata": {},
     "output_type": "display_data"
    }
   ],
   "source": [
    "g = sns.lmplot(x='peace_index', y='happiness_score', data = filtered_europe)\n",
    "\n",
    "x = filtered_europe['peace_index']\n",
    "y = filtered_europe['happiness_score']\n",
    "y_pred = np.poly1d(np.polyfit(x, y, 1))(x)\n",
    "r2 = r2_score(y, y_pred)\n",
    "\n",
    "# Annotate the plot with the R-squared value\n",
    "# g.fig.text(0.15, 0.9, f\"R2 = {r2:.2f}\", fontsize=12)\n",
    "\n",
    "plt.show()"
   ]
  },
  {
   "cell_type": "code",
   "execution_count": 16,
   "id": "cef25ee3",
   "metadata": {},
   "outputs": [
    {
     "data": {
      "text/html": [
       "<div>\n",
       "<style scoped>\n",
       "    .dataframe tbody tr th:only-of-type {\n",
       "        vertical-align: middle;\n",
       "    }\n",
       "\n",
       "    .dataframe tbody tr th {\n",
       "        vertical-align: top;\n",
       "    }\n",
       "\n",
       "    .dataframe thead th {\n",
       "        text-align: right;\n",
       "    }\n",
       "</style>\n",
       "<table border=\"1\" class=\"dataframe\">\n",
       "  <thead>\n",
       "    <tr style=\"text-align: right;\">\n",
       "      <th></th>\n",
       "      <th>happiness_score</th>\n",
       "      <th>peace_index</th>\n",
       "      <th>feel_religious</th>\n",
       "    </tr>\n",
       "  </thead>\n",
       "  <tbody>\n",
       "    <tr>\n",
       "      <th>happiness_score</th>\n",
       "      <td>1.000000</td>\n",
       "      <td>0.032522</td>\n",
       "      <td>-0.370854</td>\n",
       "    </tr>\n",
       "    <tr>\n",
       "      <th>peace_index</th>\n",
       "      <td>0.032522</td>\n",
       "      <td>1.000000</td>\n",
       "      <td>0.663200</td>\n",
       "    </tr>\n",
       "    <tr>\n",
       "      <th>feel_religious</th>\n",
       "      <td>-0.370854</td>\n",
       "      <td>0.663200</td>\n",
       "      <td>1.000000</td>\n",
       "    </tr>\n",
       "  </tbody>\n",
       "</table>\n",
       "</div>"
      ],
      "text/plain": [
       "                 happiness_score  peace_index  feel_religious\n",
       "happiness_score         1.000000     0.032522       -0.370854\n",
       "peace_index             0.032522     1.000000        0.663200\n",
       "feel_religious         -0.370854     0.663200        1.000000"
      ]
     },
     "execution_count": 16,
     "metadata": {},
     "output_type": "execute_result"
    }
   ],
   "source": [
    "category = \"Arab States\"\n",
    "\n",
    "filtered_europe = new_country_per_region[new_country_per_region[\"Region\"] == category]\n",
    "\n",
    "filtered_europe[[\"happiness_score\", \"peace_index\", \"feel_religious\"]].corr()"
   ]
  },
  {
   "cell_type": "code",
   "execution_count": 18,
   "id": "d4a1d6d5",
   "metadata": {},
   "outputs": [
    {
     "data": {
      "text/html": [
       "<div>\n",
       "<style scoped>\n",
       "    .dataframe tbody tr th:only-of-type {\n",
       "        vertical-align: middle;\n",
       "    }\n",
       "\n",
       "    .dataframe tbody tr th {\n",
       "        vertical-align: top;\n",
       "    }\n",
       "\n",
       "    .dataframe thead th {\n",
       "        text-align: right;\n",
       "    }\n",
       "</style>\n",
       "<table border=\"1\" class=\"dataframe\">\n",
       "  <thead>\n",
       "    <tr style=\"text-align: right;\">\n",
       "      <th></th>\n",
       "      <th>happiness_score</th>\n",
       "      <th>peace_index</th>\n",
       "      <th>feel_religious</th>\n",
       "    </tr>\n",
       "  </thead>\n",
       "  <tbody>\n",
       "    <tr>\n",
       "      <th>happiness_score</th>\n",
       "      <td>1.000000</td>\n",
       "      <td>-0.215413</td>\n",
       "      <td>-0.068133</td>\n",
       "    </tr>\n",
       "    <tr>\n",
       "      <th>peace_index</th>\n",
       "      <td>-0.215413</td>\n",
       "      <td>1.000000</td>\n",
       "      <td>0.310476</td>\n",
       "    </tr>\n",
       "    <tr>\n",
       "      <th>feel_religious</th>\n",
       "      <td>-0.068133</td>\n",
       "      <td>0.310476</td>\n",
       "      <td>1.000000</td>\n",
       "    </tr>\n",
       "  </tbody>\n",
       "</table>\n",
       "</div>"
      ],
      "text/plain": [
       "                 happiness_score  peace_index  feel_religious\n",
       "happiness_score         1.000000    -0.215413       -0.068133\n",
       "peace_index            -0.215413     1.000000        0.310476\n",
       "feel_religious         -0.068133     0.310476        1.000000"
      ]
     },
     "execution_count": 18,
     "metadata": {},
     "output_type": "execute_result"
    }
   ],
   "source": [
    "category = \"South/Latin America\"\n",
    "\n",
    "filtered_europe = new_country_per_region[new_country_per_region[\"Region\"] == category]\n",
    "\n",
    "filtered_europe[[\"happiness_score\", \"peace_index\", \"feel_religious\"]].corr()"
   ]
  },
  {
   "cell_type": "code",
   "execution_count": 19,
   "id": "7c2b96c0",
   "metadata": {},
   "outputs": [
    {
     "data": {
      "text/html": [
       "<div>\n",
       "<style scoped>\n",
       "    .dataframe tbody tr th:only-of-type {\n",
       "        vertical-align: middle;\n",
       "    }\n",
       "\n",
       "    .dataframe tbody tr th {\n",
       "        vertical-align: top;\n",
       "    }\n",
       "\n",
       "    .dataframe thead th {\n",
       "        text-align: right;\n",
       "    }\n",
       "</style>\n",
       "<table border=\"1\" class=\"dataframe\">\n",
       "  <thead>\n",
       "    <tr style=\"text-align: right;\">\n",
       "      <th></th>\n",
       "      <th>happiness_score</th>\n",
       "      <th>peace_index</th>\n",
       "      <th>feel_religious</th>\n",
       "    </tr>\n",
       "  </thead>\n",
       "  <tbody>\n",
       "    <tr>\n",
       "      <th>happiness_score</th>\n",
       "      <td>1.000000</td>\n",
       "      <td>-0.328701</td>\n",
       "      <td>0.008782</td>\n",
       "    </tr>\n",
       "    <tr>\n",
       "      <th>peace_index</th>\n",
       "      <td>-0.328701</td>\n",
       "      <td>1.000000</td>\n",
       "      <td>0.092042</td>\n",
       "    </tr>\n",
       "    <tr>\n",
       "      <th>feel_religious</th>\n",
       "      <td>0.008782</td>\n",
       "      <td>0.092042</td>\n",
       "      <td>1.000000</td>\n",
       "    </tr>\n",
       "  </tbody>\n",
       "</table>\n",
       "</div>"
      ],
      "text/plain": [
       "                 happiness_score  peace_index  feel_religious\n",
       "happiness_score         1.000000    -0.328701        0.008782\n",
       "peace_index            -0.328701     1.000000        0.092042\n",
       "feel_religious          0.008782     0.092042        1.000000"
      ]
     },
     "execution_count": 19,
     "metadata": {},
     "output_type": "execute_result"
    }
   ],
   "source": [
    "category = \"Africa\"\n",
    "\n",
    "filtered_europe = new_country_per_region[new_country_per_region[\"Region\"] == category]\n",
    "\n",
    "filtered_europe[[\"happiness_score\", \"peace_index\", \"feel_religious\"]].corr()"
   ]
  },
  {
   "cell_type": "code",
   "execution_count": 20,
   "id": "7e1a8a55",
   "metadata": {},
   "outputs": [
    {
     "data": {
      "text/html": [
       "<div>\n",
       "<style scoped>\n",
       "    .dataframe tbody tr th:only-of-type {\n",
       "        vertical-align: middle;\n",
       "    }\n",
       "\n",
       "    .dataframe tbody tr th {\n",
       "        vertical-align: top;\n",
       "    }\n",
       "\n",
       "    .dataframe thead th {\n",
       "        text-align: right;\n",
       "    }\n",
       "</style>\n",
       "<table border=\"1\" class=\"dataframe\">\n",
       "  <thead>\n",
       "    <tr style=\"text-align: right;\">\n",
       "      <th></th>\n",
       "      <th>happiness_score</th>\n",
       "      <th>peace_index</th>\n",
       "      <th>feel_religious</th>\n",
       "    </tr>\n",
       "  </thead>\n",
       "  <tbody>\n",
       "    <tr>\n",
       "      <th>happiness_score</th>\n",
       "      <td>1.0</td>\n",
       "      <td>-1.0</td>\n",
       "      <td>-1.0</td>\n",
       "    </tr>\n",
       "    <tr>\n",
       "      <th>peace_index</th>\n",
       "      <td>-1.0</td>\n",
       "      <td>1.0</td>\n",
       "      <td>1.0</td>\n",
       "    </tr>\n",
       "    <tr>\n",
       "      <th>feel_religious</th>\n",
       "      <td>-1.0</td>\n",
       "      <td>1.0</td>\n",
       "      <td>1.0</td>\n",
       "    </tr>\n",
       "  </tbody>\n",
       "</table>\n",
       "</div>"
      ],
      "text/plain": [
       "                 happiness_score  peace_index  feel_religious\n",
       "happiness_score              1.0         -1.0            -1.0\n",
       "peace_index                 -1.0          1.0             1.0\n",
       "feel_religious              -1.0          1.0             1.0"
      ]
     },
     "execution_count": 20,
     "metadata": {},
     "output_type": "execute_result"
    }
   ],
   "source": [
    "category = \"North America\"\n",
    "\n",
    "filtered_europe = new_country_per_region[new_country_per_region[\"Region\"] == category]\n",
    "\n",
    "filtered_europe[[\"happiness_score\", \"peace_index\", \"feel_religious\"]].corr()"
   ]
  },
  {
   "cell_type": "code",
   "execution_count": 21,
   "id": "bd1dcee2",
   "metadata": {},
   "outputs": [
    {
     "data": {
      "text/html": [
       "<div>\n",
       "<style scoped>\n",
       "    .dataframe tbody tr th:only-of-type {\n",
       "        vertical-align: middle;\n",
       "    }\n",
       "\n",
       "    .dataframe tbody tr th {\n",
       "        vertical-align: top;\n",
       "    }\n",
       "\n",
       "    .dataframe thead th {\n",
       "        text-align: right;\n",
       "    }\n",
       "</style>\n",
       "<table border=\"1\" class=\"dataframe\">\n",
       "  <thead>\n",
       "    <tr style=\"text-align: right;\">\n",
       "      <th></th>\n",
       "      <th>happiness_score</th>\n",
       "      <th>peace_index</th>\n",
       "      <th>feel_religious</th>\n",
       "    </tr>\n",
       "  </thead>\n",
       "  <tbody>\n",
       "    <tr>\n",
       "      <th>happiness_score</th>\n",
       "      <td>1.000000</td>\n",
       "      <td>-0.559121</td>\n",
       "      <td>-0.482421</td>\n",
       "    </tr>\n",
       "    <tr>\n",
       "      <th>peace_index</th>\n",
       "      <td>-0.559121</td>\n",
       "      <td>1.000000</td>\n",
       "      <td>-0.315061</td>\n",
       "    </tr>\n",
       "    <tr>\n",
       "      <th>feel_religious</th>\n",
       "      <td>-0.482421</td>\n",
       "      <td>-0.315061</td>\n",
       "      <td>1.000000</td>\n",
       "    </tr>\n",
       "  </tbody>\n",
       "</table>\n",
       "</div>"
      ],
      "text/plain": [
       "                 happiness_score  peace_index  feel_religious\n",
       "happiness_score         1.000000    -0.559121       -0.482421\n",
       "peace_index            -0.559121     1.000000       -0.315061\n",
       "feel_religious         -0.482421    -0.315061        1.000000"
      ]
     },
     "execution_count": 21,
     "metadata": {},
     "output_type": "execute_result"
    }
   ],
   "source": [
    "category = \"Middle east\"\n",
    "\n",
    "filtered_europe = new_country_per_region[new_country_per_region[\"Region\"] == category]\n",
    "\n",
    "filtered_europe[[\"happiness_score\", \"peace_index\", \"feel_religious\"]].corr()"
   ]
  },
  {
   "cell_type": "code",
   "execution_count": null,
   "id": "68ed71a5",
   "metadata": {},
   "outputs": [],
   "source": []
  }
 ],
 "metadata": {
  "kernelspec": {
   "display_name": "Python 3 (ipykernel)",
   "language": "python",
   "name": "python3"
  },
  "language_info": {
   "codemirror_mode": {
    "name": "ipython",
    "version": 3
   },
   "file_extension": ".py",
   "mimetype": "text/x-python",
   "name": "python",
   "nbconvert_exporter": "python",
   "pygments_lexer": "ipython3",
   "version": "3.10.9"
  }
 },
 "nbformat": 4,
 "nbformat_minor": 5
}
